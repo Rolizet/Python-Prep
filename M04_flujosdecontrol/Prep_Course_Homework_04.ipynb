{
 "cells": [
  {
   "attachments": {},
   "cell_type": "markdown",
   "metadata": {},
   "source": [
    "## Flujos de Control"
   ]
  },
  {
   "attachments": {},
   "cell_type": "markdown",
   "metadata": {},
   "source": [
    "1) Crear una variable que contenga un elemento del conjunto de números enteros y luego imprimir por pantalla si es mayor o menor a cero"
   ]
  },
  {
   "cell_type": "code",
   "execution_count": 1,
   "metadata": {},
   "outputs": [
    {
     "name": "stdout",
     "output_type": "stream",
     "text": [
      "la variable es mayor a cero\n"
     ]
    }
   ],
   "source": [
    "a = 10\n",
    "if (a < 0): #Si a es menor a cero/ me devuelve un booleano: True o False, si es True ejecuta el codigo que estaba debajo\n",
    "    print(\"la variable es menor a cero\")\n",
    "elif (a > 0): #Si a es mayor a cero....\n",
    "    print(\"la variable es mayor a cero\")\n",
    "else:\n",
    "    print(\"la variable es igual a cero\")"
   ]
  },
  {
   "attachments": {},
   "cell_type": "markdown",
   "metadata": {},
   "source": [
    "2) Crear dos variables y un condicional que informe si son del mismo tipo de dato"
   ]
  },
  {
   "cell_type": "code",
   "execution_count": 2,
   "metadata": {},
   "outputs": [
    {
     "name": "stdout",
     "output_type": "stream",
     "text": [
      "las variables no son del mismo tipo de datos\n"
     ]
    }
   ],
   "source": [
    "a = 2\n",
    "b = \"hola\"\n",
    "if (type(a) == type(b)): #si el tipo de a es igual al de la variable b.... si esto no pasa se ejectua lo segundo\n",
    "    print(\"las variables son del mismo tipo de datos\")\n",
    "else:\n",
    "    print(\"las variables no son del mismo tipo de datos\")"
   ]
  },
  {
   "attachments": {},
   "cell_type": "markdown",
   "metadata": {},
   "source": [
    "3) Para los valores enteros del 1 al 20, imprimir por pantalla si es par o impar"
   ]
  },
  {
   "cell_type": "code",
   "execution_count": 3,
   "metadata": {},
   "outputs": [
    {
     "name": "stdout",
     "output_type": "stream",
     "text": [
      "El número  1  es impar\n",
      "El número 2  es par\n",
      "El número  3  es impar\n",
      "El número 4  es par\n",
      "El número  5  es impar\n",
      "El número 6  es par\n",
      "El número  7  es impar\n",
      "El número 8  es par\n",
      "El número  9  es impar\n",
      "El número 10  es par\n",
      "El número  11  es impar\n",
      "El número 12  es par\n",
      "El número  13  es impar\n",
      "El número 14  es par\n",
      "El número  15  es impar\n",
      "El número 16  es par\n",
      "El número  17  es impar\n",
      "El número 18  es par\n",
      "El número  19  es impar\n",
      "El número 20  es par\n"
     ]
    }
   ],
   "source": [
    "for i in range(1,21): #este es un bucle for donde creo un rango de valores que va entre 1 y 20(21-1)\n",
    "    if i % 2 == 0: #si i%2 es igual a cero...\n",
    "        print(\"El número\", str(i), \" es par\") #se imprime si la condicion anterior es True\n",
    "    else: #si es False se imprime esto\n",
    "        print(\"El número \", str(i), \" es impar\")"
   ]
  },
  {
   "attachments": {},
   "cell_type": "markdown",
   "metadata": {},
   "source": [
    "4) En un ciclo for mostrar para los valores entre 0 y 5 el resultado de elevarlo a la potencia igual a 3"
   ]
  },
  {
   "cell_type": "code",
   "execution_count": 6,
   "metadata": {},
   "outputs": [
    {
     "name": "stdout",
     "output_type": "stream",
     "text": [
      "valor: 0 Elevado a la 3ra potencia: 0\n",
      "valor: 1 Elevado a la 3ra potencia: 1\n",
      "valor: 2 Elevado a la 3ra potencia: 8\n",
      "valor: 3 Elevado a la 3ra potencia: 27\n",
      "valor: 4 Elevado a la 3ra potencia: 64\n",
      "valor: 5 Elevado a la 3ra potencia: 125\n"
     ]
    }
   ],
   "source": [
    "for i in range(0, 6):\n",
    "    print(\"valor:\", str(i), \"Elevado a la 3ra potencia:\", str(i**3))"
   ]
  },
  {
   "attachments": {},
   "cell_type": "markdown",
   "metadata": {},
   "source": [
    "5) Crear una variable que contenga un número entero y realizar un ciclo for la misma cantidad de ciclos"
   ]
  },
  {
   "cell_type": "code",
   "execution_count": 9,
   "metadata": {},
   "outputs": [
    {
     "name": "stdout",
     "output_type": "stream",
     "text": [
      "0\n",
      "1\n",
      "2\n",
      "3\n",
      "4\n",
      "5\n",
      "6\n",
      "7\n",
      "8\n",
      "9\n",
      "10\n",
      "11\n"
     ]
    }
   ],
   "source": [
    "n = 12\n",
    "for i in range(0, n):\n",
    "    pass\n",
    "    print(i)"
   ]
  },
  {
   "attachments": {},
   "cell_type": "markdown",
   "metadata": {},
   "source": [
    "6) Utilizar un ciclo while para realizar el factorial de un número guardado en una variable, sólo si la variable contiene un número entero mayor a 0"
   ]
  },
  {
   "cell_type": "code",
   "execution_count": 1,
   "metadata": {},
   "outputs": [
    {
     "name": "stdout",
     "output_type": "stream",
     "text": [
      "El factorial es 120\n"
     ]
    }
   ],
   "source": [
    "n = 5\n",
    "if (type(n) == int): #le pido que sea un entero, continua con el siguiente punto\n",
    "    if (n > 0):\n",
    "        factorial = n #factorial es igual a n(5)\n",
    "        while (n > 2): #verificamos que n sea mayor a 2\n",
    "            n = n - 1 #si n es mayor a 2, entonces cambio el valor de n a n-1\n",
    "            factorial = factorial * n #5=5*4\n",
    "        print(\"El factorial es\", factorial)\n",
    "    else:\n",
    "        print(\"La variable no es mayor a cero\")\n",
    "else:\n",
    "    print(\"La variable no es un entero\")\n",
    "\n"
   ]
  },
  {
   "attachments": {},
   "cell_type": "markdown",
   "metadata": {},
   "source": [
    "7) Crear un ciclo for dentro de un ciclo while"
   ]
  },
  {
   "cell_type": "code",
   "execution_count": 11,
   "metadata": {},
   "outputs": [
    {
     "name": "stdout",
     "output_type": "stream",
     "text": [
      "Ciclo while nro 2\n",
      "ciclo for nro 1\n",
      "Ciclo while nro 3\n",
      "ciclo for nro 1\n",
      "Ciclo while nro 3\n",
      "ciclo for nro 2\n",
      "Ciclo while nro 4\n",
      "ciclo for nro 1\n",
      "Ciclo while nro 4\n",
      "ciclo for nro 2\n",
      "Ciclo while nro 4\n",
      "ciclo for nro 3\n",
      "Ciclo while nro 5\n",
      "ciclo for nro 1\n",
      "Ciclo while nro 5\n",
      "ciclo for nro 2\n",
      "Ciclo while nro 5\n",
      "ciclo for nro 3\n",
      "Ciclo while nro 5\n",
      "ciclo for nro 4\n"
     ]
    }
   ],
   "source": [
    "numero = 0\n",
    "while(numero < 5):\n",
    "    numero += 1\n",
    "    for i in range(1, numero):\n",
    "        print(\"Ciclo while nro \" + str(numero))\n",
    "        print(\"ciclo for nro \" + str(i))"
   ]
  },
  {
   "attachments": {},
   "cell_type": "markdown",
   "metadata": {},
   "source": [
    "8) Crear un ciclo while dentro de un ciclo for"
   ]
  },
  {
   "cell_type": "code",
   "execution_count": 14,
   "metadata": {},
   "outputs": [
    {
     "name": "stdout",
     "output_type": "stream",
     "text": [
      "Ciclo while nro 5\n",
      "Ciclo for nro 4\n"
     ]
    }
   ],
   "source": [
    "numero = 5\n",
    "for i in range(1, numero):\n",
    "    while(numero < 5):\n",
    "        numero -= 1\n",
    "print(\"Ciclo while nro \" + str(numero))\n",
    "print(\"Ciclo for nro \" + str(i))"
   ]
  },
  {
   "attachments": {},
   "cell_type": "markdown",
   "metadata": {},
   "source": [
    "9) Imprimir los números primos existentes entre 0 y 30"
   ]
  },
  {
   "cell_type": "code",
   "execution_count": 8,
   "metadata": {},
   "outputs": [
    {
     "name": "stdout",
     "output_type": "stream",
     "text": [
      "0\n",
      "1\n",
      "2\n",
      "3\n",
      "5\n",
      "7\n",
      "11\n",
      "13\n",
      "17\n",
      "19\n",
      "23\n",
      "29\n"
     ]
    }
   ],
   "source": [
    "tope_rango=30  #Establecemos valor maximo del rango\n",
    "n = 0 #Iniciamos la variable n en 0\n",
    "primo = True #Creamos la variable primo como verdadera\n",
    "while n < tope_rango: #Comenzamos un bucle while que se ejecutara mientras n sea menor que el tope_rango\n",
    "    for div in range(2, n): #Comenzamos un bucle for que itera desde 2 hasta n-1\n",
    "        if n % div == 0: #Confirmamos si n es divisible entre div\n",
    "            primo = False #Si es divisible, marcamos primo como falso\n",
    "\n",
    "    if primo: #Verificamos si la variable primo es verdadera\n",
    "        print(n) #Si es verdadera, significa que n es un número primo\n",
    "    else: \n",
    "        primo = True #Si primo es falso, significa que n no es un número primo, por lo que lo restablecemos a verdadero\n",
    "\n",
    "    n += 1 #Incrementamos n en 1 para pasar al siguiente número"
   ]
  },
  {
   "attachments": {},
   "cell_type": "markdown",
   "metadata": {},
   "source": [
    "10) ¿Se puede mejorar el proceso del punto 9? Utilizar las sentencias break y/ó continue para tal fin"
   ]
  },
  {
   "cell_type": "code",
   "execution_count": null,
   "metadata": {},
   "outputs": [],
   "source": []
  },
  {
   "attachments": {},
   "cell_type": "markdown",
   "metadata": {},
   "source": [
    "11) En los puntos 9 y 10, se diseño un código que encuentra números primos y además se lo optimizó. ¿Es posible saber en qué medida se optimizó?"
   ]
  },
  {
   "cell_type": "code",
   "execution_count": null,
   "metadata": {},
   "outputs": [],
   "source": []
  },
  {
   "attachments": {},
   "cell_type": "markdown",
   "metadata": {},
   "source": [
    "12) Aplicando continue, armar un ciclo while que solo imprima los valores divisibles por 12, dentro del rango de números de 100 a 300"
   ]
  },
  {
   "cell_type": "code",
   "execution_count": null,
   "metadata": {},
   "outputs": [],
   "source": []
  },
  {
   "attachments": {},
   "cell_type": "markdown",
   "metadata": {},
   "source": [
    "13) Utilizar la función **input()** que permite hacer ingresos por teclado, para encontrar números primos y dar la opción al usario de buscar el siguiente"
   ]
  },
  {
   "cell_type": "code",
   "execution_count": null,
   "metadata": {},
   "outputs": [],
   "source": []
  },
  {
   "attachments": {},
   "cell_type": "markdown",
   "metadata": {},
   "source": [
    "14) Crear un ciclo while que encuentre dentro del rango de 100 a 300 el primer número divisible por 3 y además múltiplo de 6"
   ]
  },
  {
   "cell_type": "code",
   "execution_count": null,
   "metadata": {},
   "outputs": [],
   "source": []
  }
 ],
 "metadata": {
  "interpreter": {
   "hash": "c85384e4cb51c8b72350f3a8712cc8351fdc3955e32a27f9b60c6242ab125f01"
  },
  "kernelspec": {
   "display_name": "Python 3 (ipykernel)",
   "language": "python",
   "name": "python3"
  },
  "language_info": {
   "codemirror_mode": {
    "name": "ipython",
    "version": 3
   },
   "file_extension": ".py",
   "mimetype": "text/x-python",
   "name": "python",
   "nbconvert_exporter": "python",
   "pygments_lexer": "ipython3",
   "version": "3.7.9"
  }
 },
 "nbformat": 4,
 "nbformat_minor": 4
}
