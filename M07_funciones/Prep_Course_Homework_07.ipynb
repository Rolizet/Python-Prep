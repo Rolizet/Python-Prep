{
 "cells": [
  {
   "attachments": {},
   "cell_type": "markdown",
   "metadata": {},
   "source": [
    "## Funciones"
   ]
  },
  {
   "attachments": {},
   "cell_type": "markdown",
   "metadata": {},
   "source": [
    "1) Crear una función que reciba un número como parámetro y devuelva True si es primo y False si no lo es"
   ]
  },
  {
   "cell_type": "code",
   "execution_count": 38,
   "metadata": {},
   "outputs": [],
   "source": [
    "def verifica_primo(nro): #recibe un numero de parametro\n",
    "    es_primo = True #declaro la variable primo como True\n",
    "    for i in range(2, nro): #el primer i va a ser un 2\n",
    "        if nro % i == 0:\n",
    "            es_primo = False\n",
    "        break\n",
    "    return es_primo"
   ]
  },
  {
   "cell_type": "code",
   "execution_count": 39,
   "metadata": {},
   "outputs": [
    {
     "data": {
      "text/plain": [
       "True"
      ]
     },
     "execution_count": 39,
     "metadata": {},
     "output_type": "execute_result"
    }
   ],
   "source": [
    "verifica_primo(5)"
   ]
  },
  {
   "attachments": {},
   "cell_type": "markdown",
   "metadata": {},
   "source": [
    "2) Utilizando la función del punto 1, realizar otra función que reciba de parámetro una lista de números y devuelva sólo aquellos que son primos en otra lista"
   ]
  },
  {
   "cell_type": "code",
   "execution_count": 40,
   "metadata": {},
   "outputs": [],
   "source": [
    "def extrae_primos_de_lista(lista): #ahora tiene como parametro una lista de numeros, me va a analizar y devolver aquellos numeros que sean primos\n",
    "    lista_primos = [] #declaro lista vacia donde se van a cargar los numeros primos\n",
    "    for elemento in lista: #a cada uno de los elementos se van a ir recorriendo\n",
    "        if verifica_primo(int(elemento)): #llamo a la funcion anterior\n",
    "            lista_primos.append(elemento) #si el numero es primo lo agrego a la lista\n",
    "    return lista_primos"
   ]
  },
  {
   "cell_type": "code",
   "execution_count": 41,
   "metadata": {},
   "outputs": [],
   "source": [
    "lista= [1,2,3,4,5,6,7,8,9,10,11,12,13,14,15,16,17,18,19,20]\n",
    "resultado = extrae_primos_de_lista(lista)"
   ]
  },
  {
   "cell_type": "code",
   "execution_count": 42,
   "metadata": {},
   "outputs": [
    {
     "data": {
      "text/plain": [
       "[1, 2, 3, 5, 7, 9, 11, 13, 15, 17, 19]"
      ]
     },
     "execution_count": 42,
     "metadata": {},
     "output_type": "execute_result"
    }
   ],
   "source": [
    "extrae_primos_de_lista(lista)\n"
   ]
  },
  {
   "attachments": {},
   "cell_type": "markdown",
   "metadata": {},
   "source": [
    "3) Crear una función que al recibir una lista de números, devuelva el que más se repite y cuántas veces lo hace. Si hay más de un \"más repetido\", que devuelva cualquiera"
   ]
  },
  {
   "cell_type": "code",
   "execution_count": 46,
   "metadata": {},
   "outputs": [],
   "source": [
    "def valor_modal(lista): #tomo una lista como parametro\n",
    "    lista_unicos= []     #declaro lista vacia, se almacenaran los valores unicos de la lista de entrada\n",
    "    lista_repeticiones = []  #declaro lista vacia para los repetidos, vamos a almacenar la frecuencia de cada valor en la lista \n",
    "    if len(lista) == 0: #si la longitud de la lista es igual a cero el codigo no corre y me va a retornar none\n",
    "        return None\n",
    "    for elemento in lista: #aca vamos a recorrer cada elemento en la lista de entrada\n",
    "        if elemento in lista_unicos: #si el elemento esta en la lista unica, le agrego 1 a su conteo de repeticiones\n",
    "            i = lista_unicos.index(elemento)\n",
    "            lista_repeticiones[i] += 1\n",
    "        else:  #si el elemento no esta en la lista de elementos unicos, agregarlo a la lista de unico y 1 a su conteo\n",
    "            lista_unicos.append(elemento)\n",
    "            lista_repeticiones.append(1)\n",
    "    \n",
    "    moda = lista_unicos [0] #establecer la moda y el numero maximo de repeticiones del primer elemento de la lista\n",
    "    maximo = lista_repeticiones [0]\n",
    "    for i, elemento in enumerate(lista_unicos):  #si el numero de repeticiones del elemento actual es mayor al numero registrado, actualizamos la moda y el maximo\n",
    "        if lista_repeticiones[i] > maximo:\n",
    "            moda = lista_unicos[i]\n",
    "            maximo = lista_repeticiones[i]\n",
    "    return moda, maximo #devuelve una tupla que contiene en primer lugar la moda y al lado el numero maximo de repetiociones"
   ]
  },
  {
   "cell_type": "code",
   "execution_count": 50,
   "metadata": {},
   "outputs": [],
   "source": [
    "mi_lista1=[1,1,2,2,3,3,3,4,4,5,22,22,22,22]"
   ]
  },
  {
   "cell_type": "code",
   "execution_count": 51,
   "metadata": {},
   "outputs": [
    {
     "data": {
      "text/plain": [
       "(22, 4)"
      ]
     },
     "execution_count": 51,
     "metadata": {},
     "output_type": "execute_result"
    }
   ],
   "source": [
    "valor_modal(mi_lista1)"
   ]
  },
  {
   "attachments": {},
   "cell_type": "markdown",
   "metadata": {},
   "source": [
    "4) Crear una función que convierta entre grados Celsius, Farenheit y Kelvin<br>\n",
    "Fórmula 1\t: (°C × 9/5) + 32 = °F<br>\n",
    "Fórmula 2\t: °C + 273.15 = °K<br>\n",
    "Debe recibir 3 parámetros: el valor, la medida de orígen y la medida de destino\n"
   ]
  },
  {
   "cell_type": "code",
   "execution_count": 55,
   "metadata": {},
   "outputs": [],
   "source": [
    "def conversion_grados (valor, origen, destino):\n",
    "    if (origen == \"celsius\"):\n",
    "        if (destino == \"celsius\"):\n",
    "            valor_destino = valor \n",
    "        elif (destino == \"farenheit\"):\n",
    "            valor_destino = (valor * 9/5) + 32\n",
    "        elif (destino == \"kelvin\"):\n",
    "            valor_destino = valor + 273.15\n",
    "        else:\n",
    "            print(\"Parametro de Destino incorrecto\")\n",
    "    elif (origen == \"farenheit\"):\n",
    "        if (destino == \"celsius\"):\n",
    "            valor_destino = (valor - 32) * 5/9\n",
    "        elif (destino == \"farenheit\"):\n",
    "            valor_destino = valor\n",
    "        elif (destino == \"kelvin\"):\n",
    "            valor_destino = ((valor - 32) * 5/9) + 273.15\n",
    "        else:\n",
    "            print(\"Parametro de Destino incorrecto\")\n",
    "    elif (origen == \"kelvin\"):\n",
    "        if (destino == \"celsius\"):\n",
    "            valor_destino = valor - 273.15\n",
    "        elif (destino == \"farenheit\"):\n",
    "            valor_destino = ((valor - 273.15) * 9/5) +32\n",
    "        elif (destino == \"kelvin\"):\n",
    "            valor_destino = valor\n",
    "        else:\n",
    "            print(\"Parametro de Destino incorrecto\")\n",
    "    else:\n",
    "        print(\"Paremtro de Origen incorrecto\")\n",
    "    return valor_destino "
   ]
  },
  {
   "cell_type": "code",
   "execution_count": 56,
   "metadata": {},
   "outputs": [
    {
     "data": {
      "text/plain": [
       "293.15"
      ]
     },
     "execution_count": 56,
     "metadata": {},
     "output_type": "execute_result"
    }
   ],
   "source": [
    "conversion_grados(20,\"celsius\",\"kelvin\")"
   ]
  },
  {
   "attachments": {},
   "cell_type": "markdown",
   "metadata": {},
   "source": [
    "5) Iterando una lista con los tres valores posibles de temperatura que recibe la función del punto 5, hacer un print para cada combinación de los mismos:"
   ]
  },
  {
   "cell_type": "code",
   "execution_count": 57,
   "metadata": {},
   "outputs": [
    {
     "name": "stdout",
     "output_type": "stream",
     "text": [
      "1 grado celsius a celsius : 1\n",
      "1 grado celsius a kelvin : 274.15\n",
      "1 grado celsius a farenheit : 33.8\n",
      "1 grado kelvin a celsius : -272.15\n",
      "1 grado kelvin a kelvin : 1\n",
      "1 grado kelvin a farenheit : -457.87\n",
      "1 grado farenheit a celsius : -17.22222222222222\n",
      "1 grado farenheit a kelvin : 255.92777777777775\n",
      "1 grado farenheit a farenheit : 1\n"
     ]
    }
   ],
   "source": [
    "metricas = [\"celsius\", \"kelvin\", \"farenheit\"]\n",
    "for i in range(0,3):\n",
    "    for j in range(0,3):\n",
    "        print(\"1 grado\", metricas[i], \"a\", metricas[j],\":\", conversion_grados(1, metricas[i], metricas[j]))"
   ]
  },
  {
   "attachments": {},
   "cell_type": "markdown",
   "metadata": {},
   "source": [
    "6) Armar una función que devuelva el factorial de un número. Tener en cuenta que el usuario puede equivocarse y enviar de parámetro un número no entero o negativo"
   ]
  },
  {
   "cell_type": "code",
   "execution_count": 58,
   "metadata": {},
   "outputs": [],
   "source": [
    "def factorial(numero):\n",
    "    if (type(numero) != int):\n",
    "        return \"El numero debe ser un entero\"\n",
    "    if (numero < 0):\n",
    "        return \"El numero debe ser positivo\"\n",
    "    if (numero >1):\n",
    "        numero = numero * factorial (numero -1)\n",
    "    return numero"
   ]
  },
  {
   "cell_type": "code",
   "execution_count": 59,
   "metadata": {},
   "outputs": [
    {
     "data": {
      "text/plain": [
       "'El numero debe ser un entero'"
      ]
     },
     "execution_count": 59,
     "metadata": {},
     "output_type": "execute_result"
    }
   ],
   "source": [
    "factorial (\"hola\")"
   ]
  }
 ],
 "metadata": {
  "interpreter": {
   "hash": "c85384e4cb51c8b72350f3a8712cc8351fdc3955e32a27f9b60c6242ab125f01"
  },
  "kernelspec": {
   "display_name": "Python 3 (ipykernel)",
   "language": "python",
   "name": "python3"
  },
  "language_info": {
   "codemirror_mode": {
    "name": "ipython",
    "version": 3
   },
   "file_extension": ".py",
   "mimetype": "text/x-python",
   "name": "python",
   "nbconvert_exporter": "python",
   "pygments_lexer": "ipython3",
   "version": "3.7.9"
  }
 },
 "nbformat": 4,
 "nbformat_minor": 4
}
